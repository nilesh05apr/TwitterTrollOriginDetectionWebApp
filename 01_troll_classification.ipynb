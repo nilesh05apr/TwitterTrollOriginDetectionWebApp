{
 "cells": [
  {
   "cell_type": "code",
   "execution_count": 19,
   "metadata": {},
   "outputs": [
    {
     "name": "stdout",
     "output_type": "stream",
     "text": [
      "Requirement already satisfied: pandas in /home/nilesh/.local/lib/python3.8/site-packages (1.4.0)\n",
      "Requirement already satisfied: numpy>=1.18.5; platform_machine != \"aarch64\" and platform_machine != \"arm64\" and python_version < \"3.10\" in /home/nilesh/.local/lib/python3.8/site-packages (from pandas) (1.22.2)\n",
      "Requirement already satisfied: pytz>=2020.1 in /home/nilesh/.local/lib/python3.8/site-packages (from pandas) (2021.3)\n",
      "Requirement already satisfied: python-dateutil>=2.8.1 in /home/nilesh/.local/lib/python3.8/site-packages (from pandas) (2.8.2)\n",
      "Requirement already satisfied: six>=1.5 in /usr/lib/python3/dist-packages (from python-dateutil>=2.8.1->pandas) (1.14.0)\n",
      "Requirement already satisfied: scikit-learn in /home/nilesh/.local/lib/python3.8/site-packages (1.0.2)\n",
      "Requirement already satisfied: threadpoolctl>=2.0.0 in /home/nilesh/.local/lib/python3.8/site-packages (from scikit-learn) (3.1.0)\n",
      "Requirement already satisfied: numpy>=1.14.6 in /home/nilesh/.local/lib/python3.8/site-packages (from scikit-learn) (1.22.2)\n",
      "Requirement already satisfied: scipy>=1.1.0 in /home/nilesh/.local/lib/python3.8/site-packages (from scikit-learn) (1.8.0)\n",
      "Requirement already satisfied: joblib>=0.11 in /home/nilesh/.local/lib/python3.8/site-packages (from scikit-learn) (1.1.0)\n",
      "Requirement already satisfied: ekphrasis in /home/nilesh/.local/lib/python3.8/site-packages (0.5.1)\n",
      "Requirement already satisfied: ftfy in /home/nilesh/.local/lib/python3.8/site-packages (from ekphrasis) (6.0.3)\n",
      "Requirement already satisfied: numpy in /home/nilesh/.local/lib/python3.8/site-packages (from ekphrasis) (1.22.2)\n",
      "Requirement already satisfied: termcolor in /home/nilesh/.local/lib/python3.8/site-packages (from ekphrasis) (1.1.0)\n",
      "Requirement already satisfied: tqdm in /home/nilesh/.local/lib/python3.8/site-packages (from ekphrasis) (4.62.3)\n",
      "Requirement already satisfied: nltk in /home/nilesh/.local/lib/python3.8/site-packages (from ekphrasis) (3.6.7)\n",
      "Requirement already satisfied: colorama in /usr/lib/python3/dist-packages (from ekphrasis) (0.4.3)\n",
      "Requirement already satisfied: matplotlib in /home/nilesh/.local/lib/python3.8/site-packages (from ekphrasis) (3.5.1)\n",
      "Requirement already satisfied: ujson in /home/nilesh/.local/lib/python3.8/site-packages (from ekphrasis) (5.1.0)\n",
      "Requirement already satisfied: wcwidth in /home/nilesh/.local/lib/python3.8/site-packages (from ftfy->ekphrasis) (0.2.5)\n",
      "Requirement already satisfied: click in /home/nilesh/.local/lib/python3.8/site-packages (from nltk->ekphrasis) (8.0.3)\n",
      "Requirement already satisfied: regex>=2021.8.3 in /home/nilesh/.local/lib/python3.8/site-packages (from nltk->ekphrasis) (2022.1.18)\n",
      "Requirement already satisfied: joblib in /home/nilesh/.local/lib/python3.8/site-packages (from nltk->ekphrasis) (1.1.0)\n",
      "Requirement already satisfied: packaging>=20.0 in /home/nilesh/.local/lib/python3.8/site-packages (from matplotlib->ekphrasis) (21.3)\n",
      "Requirement already satisfied: cycler>=0.10 in /home/nilesh/.local/lib/python3.8/site-packages (from matplotlib->ekphrasis) (0.11.0)\n",
      "Requirement already satisfied: python-dateutil>=2.7 in /home/nilesh/.local/lib/python3.8/site-packages (from matplotlib->ekphrasis) (2.8.2)\n",
      "Requirement already satisfied: pillow>=6.2.0 in /usr/lib/python3/dist-packages (from matplotlib->ekphrasis) (7.0.0)\n",
      "Requirement already satisfied: kiwisolver>=1.0.1 in /home/nilesh/.local/lib/python3.8/site-packages (from matplotlib->ekphrasis) (1.3.2)\n",
      "Requirement already satisfied: fonttools>=4.22.0 in /home/nilesh/.local/lib/python3.8/site-packages (from matplotlib->ekphrasis) (4.29.1)\n",
      "Requirement already satisfied: pyparsing>=2.2.1 in /home/nilesh/.local/lib/python3.8/site-packages (from matplotlib->ekphrasis) (3.0.7)\n",
      "Requirement already satisfied: six>=1.5 in /usr/lib/python3/dist-packages (from python-dateutil>=2.7->matplotlib->ekphrasis) (1.14.0)\n",
      "Requirement already satisfied: emoji in /home/nilesh/.local/lib/python3.8/site-packages (1.6.3)\n",
      "Requirement already satisfied: joblib in /home/nilesh/.local/lib/python3.8/site-packages (1.1.0)\n"
     ]
    }
   ],
   "source": [
    "!pip install pandas \n",
    "!pip install scikit-learn\n",
    "!pip install ekphrasis\n",
    "!pip install emoji\n",
    "!pip install joblib"
   ]
  },
  {
   "cell_type": "code",
   "execution_count": 20,
   "metadata": {},
   "outputs": [],
   "source": [
    "import pandas as pd\n",
    "from tweet_preprocess import preprocess_tweets\n",
    "from sklearn.feature_extraction.text import CountVectorizer\n",
    "from sklearn.feature_extraction.text import TfidfTransformer\n",
    "from sklearn.pipeline import Pipeline\n",
    "from sklearn.naive_bayes import MultinomialNB\n",
    "from sklearn.metrics import classification_report, accuracy_score\n",
    "import joblib"
   ]
  },
  {
   "cell_type": "code",
   "execution_count": 21,
   "metadata": {},
   "outputs": [
    {
     "name": "stderr",
     "output_type": "stream",
     "text": [
      "[nltk_data] Downloading package stopwords to /home/nilesh/nltk_data...\n",
      "[nltk_data]   Package stopwords is already up-to-date!\n"
     ]
    },
    {
     "data": {
      "text/plain": [
       "True"
      ]
     },
     "execution_count": 21,
     "metadata": {},
     "output_type": "execute_result"
    }
   ],
   "source": [
    "import nltk\n",
    "nltk.download('stopwords')"
   ]
  },
  {
   "cell_type": "markdown",
   "metadata": {},
   "source": [
    "# Read data"
   ]
  },
  {
   "cell_type": "code",
   "execution_count": 22,
   "metadata": {},
   "outputs": [
    {
     "data": {
      "text/html": [
       "<div>\n",
       "<style scoped>\n",
       "    .dataframe tbody tr th:only-of-type {\n",
       "        vertical-align: middle;\n",
       "    }\n",
       "\n",
       "    .dataframe tbody tr th {\n",
       "        vertical-align: top;\n",
       "    }\n",
       "\n",
       "    .dataframe thead th {\n",
       "        text-align: right;\n",
       "    }\n",
       "</style>\n",
       "<table border=\"1\" class=\"dataframe\">\n",
       "  <thead>\n",
       "    <tr style=\"text-align: right;\">\n",
       "      <th></th>\n",
       "      <th>content</th>\n",
       "      <th>annotation</th>\n",
       "    </tr>\n",
       "  </thead>\n",
       "  <tbody>\n",
       "    <tr>\n",
       "      <th>0</th>\n",
       "      <td>Get fucking real dude.</td>\n",
       "      <td>1</td>\n",
       "    </tr>\n",
       "    <tr>\n",
       "      <th>1</th>\n",
       "      <td>She is as dirty as they come  and that crook ...</td>\n",
       "      <td>1</td>\n",
       "    </tr>\n",
       "    <tr>\n",
       "      <th>2</th>\n",
       "      <td>why did you fuck it up. I could do it all day...</td>\n",
       "      <td>1</td>\n",
       "    </tr>\n",
       "    <tr>\n",
       "      <th>3</th>\n",
       "      <td>Dude they dont finish enclosing the fucking s...</td>\n",
       "      <td>1</td>\n",
       "    </tr>\n",
       "    <tr>\n",
       "      <th>4</th>\n",
       "      <td>WTF are you talking about Men? No men thats n...</td>\n",
       "      <td>1</td>\n",
       "    </tr>\n",
       "  </tbody>\n",
       "</table>\n",
       "</div>"
      ],
      "text/plain": [
       "                                             content annotation\n",
       "0                             Get fucking real dude.          1\n",
       "1   She is as dirty as they come  and that crook ...          1\n",
       "2   why did you fuck it up. I could do it all day...          1\n",
       "3   Dude they dont finish enclosing the fucking s...          1\n",
       "4   WTF are you talking about Men? No men thats n...          1"
      ]
     },
     "execution_count": 22,
     "metadata": {},
     "output_type": "execute_result"
    }
   ],
   "source": [
    "df = pd.read_json('Dataset for Detection of Cyber-Trolls.json', lines= True)\n",
    "\n",
    "# Extract 1 or 0 from {'notes': '', 'label': ['1']}\t\n",
    "df[\"annotation\"] = df[\"annotation\"].apply(lambda x: x[\"label\"]).astype(\"str\")\n",
    "df[\"annotation\"] = df[\"annotation\"].apply(lambda x: x.split(\"'\")[1])\n",
    "\n",
    "# Drop extra columns\n",
    "df = df.drop(columns=['extras'])\n",
    "\n",
    "# Lets see some of the data\n",
    "df.head()"
   ]
  },
  {
   "cell_type": "markdown",
   "metadata": {},
   "source": [
    "# Preprocess text"
   ]
  },
  {
   "cell_type": "code",
   "execution_count": 23,
   "metadata": {},
   "outputs": [],
   "source": [
    "df[\"content\"] = df[\"content\"].apply(lambda x:preprocess_tweets(x))"
   ]
  },
  {
   "cell_type": "code",
   "execution_count": 24,
   "metadata": {},
   "outputs": [
    {
     "name": "stdout",
     "output_type": "stream",
     "text": [
      "(15000,) (5001,) (15000,) (5001,)\n"
     ]
    }
   ],
   "source": [
    "from sklearn.model_selection import train_test_split\n",
    "X_train, X_test, y_train, y_test = train_test_split(df[\"content\"].values, \n",
    "                                                    df[\"annotation\"].values, \n",
    "                                                    test_size=0.25, \n",
    "                                                    random_state=42, \n",
    "                                                    shuffle=True,\n",
    "                                                    stratify = df[\"annotation\"])\n",
    "print(X_train.shape, X_test.shape, y_train.shape, y_test.shape)"
   ]
  },
  {
   "cell_type": "code",
   "execution_count": 25,
   "metadata": {},
   "outputs": [
    {
     "data": {
      "text/plain": [
       "['sklearn_pipeline.pkl']"
      ]
     },
     "execution_count": 25,
     "metadata": {},
     "output_type": "execute_result"
    }
   ],
   "source": [
    "pipe = Pipeline([('count', CountVectorizer(ngram_range=(1, 2))), ('tfidf', TfidfTransformer())]).fit(X_train)\n",
    "joblib.dump(pipe, 'sklearn_pipeline.pkl')"
   ]
  },
  {
   "cell_type": "code",
   "execution_count": 26,
   "metadata": {},
   "outputs": [],
   "source": [
    "X_train = pipe.transform(X_train)\n",
    "X_test = pipe.transform(X_test)"
   ]
  },
  {
   "cell_type": "code",
   "execution_count": 27,
   "metadata": {},
   "outputs": [
    {
     "data": {
      "text/plain": [
       "['ml_model.pkl']"
      ]
     },
     "execution_count": 27,
     "metadata": {},
     "output_type": "execute_result"
    }
   ],
   "source": [
    "classifier = MultinomialNB() \n",
    "classifier.fit(X_train,y_train)      #training the model\n",
    "joblib.dump(classifier, 'ml_model.pkl')"
   ]
  },
  {
   "cell_type": "code",
   "execution_count": 28,
   "metadata": {},
   "outputs": [
    {
     "name": "stdout",
     "output_type": "stream",
     "text": [
      "              precision    recall  f1-score   support\n",
      "\n",
      "           0       0.90      0.96      0.92      3045\n",
      "           1       0.92      0.83      0.87      1956\n",
      "\n",
      "    accuracy                           0.90      5001\n",
      "   macro avg       0.91      0.89      0.90      5001\n",
      "weighted avg       0.91      0.90      0.90      5001\n",
      "\n",
      "0.904619076184763\n"
     ]
    }
   ],
   "source": [
    "y_pred = classifier.predict(X_test)  #Predicting our test label\n",
    "\n",
    "print(classification_report(y_test,y_pred))   #Results\n",
    "print(accuracy_score(y_test, y_pred))"
   ]
  },
  {
   "cell_type": "markdown",
   "metadata": {},
   "source": [
    "# Predict for new tweets"
   ]
  },
  {
   "cell_type": "code",
   "execution_count": 29,
   "metadata": {},
   "outputs": [
    {
     "data": {
      "text/html": [
       "<div>\n",
       "<style scoped>\n",
       "    .dataframe tbody tr th:only-of-type {\n",
       "        vertical-align: middle;\n",
       "    }\n",
       "\n",
       "    .dataframe tbody tr th {\n",
       "        vertical-align: top;\n",
       "    }\n",
       "\n",
       "    .dataframe thead th {\n",
       "        text-align: right;\n",
       "    }\n",
       "</style>\n",
       "<table border=\"1\" class=\"dataframe\">\n",
       "  <thead>\n",
       "    <tr style=\"text-align: right;\">\n",
       "      <th></th>\n",
       "      <th>content</th>\n",
       "      <th>user</th>\n",
       "      <th>location</th>\n",
       "      <th>processed_content</th>\n",
       "    </tr>\n",
       "  </thead>\n",
       "  <tbody>\n",
       "    <tr>\n",
       "      <th>0</th>\n",
       "      <td>something unique ohio happy :)</td>\n",
       "      <td>@user1</td>\n",
       "      <td>#location</td>\n",
       "      <td>something unique ohio happy happy</td>\n",
       "    </tr>\n",
       "    <tr>\n",
       "      <th>1</th>\n",
       "      <td>dude dont finish enclosing fucking showers hat</td>\n",
       "      <td>@user2</td>\n",
       "      <td>#location</td>\n",
       "      <td>dude dont finish enclosing fucking showers hat</td>\n",
       "    </tr>\n",
       "  </tbody>\n",
       "</table>\n",
       "</div>"
      ],
      "text/plain": [
       "                                          content    user   location  \\\n",
       "0                  something unique ohio happy :)  @user1  #location   \n",
       "1  dude dont finish enclosing fucking showers hat  @user2  #location   \n",
       "\n",
       "                                processed_content  \n",
       "0               something unique ohio happy happy  \n",
       "1  dude dont finish enclosing fucking showers hat  "
      ]
     },
     "execution_count": 29,
     "metadata": {},
     "output_type": "execute_result"
    }
   ],
   "source": [
    "## Now tweet df is generated here, but in live app it will be fetched from Twitter API\n",
    "new_tweet = [\"something unique ohio happy :)\", \"dude dont finish enclosing fucking showers hat\"]\n",
    "new_tweet_user = [\"@user1\", \"@user2\"]\n",
    "new_tweet_location = [\"#location\", \"#location\"]\n",
    "new_tweet_df = pd.DataFrame({\"content\" : new_tweet, \"user\" : new_tweet_user, \"location\" : new_tweet_location})\n",
    "\n",
    "# Preprocess tweets\n",
    "new_tweet_df[\"processed_content\"] = new_tweet_df[\"content\"].apply(lambda x:preprocess_tweets(x))\n",
    "new_tweet_df"
   ]
  },
  {
   "cell_type": "code",
   "execution_count": 30,
   "metadata": {},
   "outputs": [],
   "source": [
    "new_tweet_df[\"predicted_annotation\"] = classifier.predict(pipe.transform(new_tweet_df[\"processed_content\"].values))"
   ]
  },
  {
   "cell_type": "code",
   "execution_count": 31,
   "metadata": {},
   "outputs": [
    {
     "data": {
      "text/html": [
       "<div>\n",
       "<style scoped>\n",
       "    .dataframe tbody tr th:only-of-type {\n",
       "        vertical-align: middle;\n",
       "    }\n",
       "\n",
       "    .dataframe tbody tr th {\n",
       "        vertical-align: top;\n",
       "    }\n",
       "\n",
       "    .dataframe thead th {\n",
       "        text-align: right;\n",
       "    }\n",
       "</style>\n",
       "<table border=\"1\" class=\"dataframe\">\n",
       "  <thead>\n",
       "    <tr style=\"text-align: right;\">\n",
       "      <th></th>\n",
       "      <th>content</th>\n",
       "      <th>user</th>\n",
       "      <th>location</th>\n",
       "      <th>processed_content</th>\n",
       "      <th>predicted_annotation</th>\n",
       "    </tr>\n",
       "  </thead>\n",
       "  <tbody>\n",
       "    <tr>\n",
       "      <th>0</th>\n",
       "      <td>something unique ohio happy :)</td>\n",
       "      <td>@user1</td>\n",
       "      <td>#location</td>\n",
       "      <td>something unique ohio happy happy</td>\n",
       "      <td>0</td>\n",
       "    </tr>\n",
       "    <tr>\n",
       "      <th>1</th>\n",
       "      <td>dude dont finish enclosing fucking showers hat</td>\n",
       "      <td>@user2</td>\n",
       "      <td>#location</td>\n",
       "      <td>dude dont finish enclosing fucking showers hat</td>\n",
       "      <td>1</td>\n",
       "    </tr>\n",
       "  </tbody>\n",
       "</table>\n",
       "</div>"
      ],
      "text/plain": [
       "                                          content    user   location  \\\n",
       "0                  something unique ohio happy :)  @user1  #location   \n",
       "1  dude dont finish enclosing fucking showers hat  @user2  #location   \n",
       "\n",
       "                                processed_content predicted_annotation  \n",
       "0               something unique ohio happy happy                    0  \n",
       "1  dude dont finish enclosing fucking showers hat                    1  "
      ]
     },
     "execution_count": 31,
     "metadata": {},
     "output_type": "execute_result"
    }
   ],
   "source": [
    "new_tweet_df"
   ]
  },
  {
   "cell_type": "code",
   "execution_count": null,
   "metadata": {},
   "outputs": [],
   "source": []
  }
 ],
 "metadata": {
  "interpreter": {
   "hash": "e588a23f49329b9290dda077d79a9005879a30fe97c1fa2c6a93e79fd5926943"
  },
  "kernelspec": {
   "display_name": "Python 3.8.7 64-bit",
   "name": "python3"
  },
  "language_info": {
   "codemirror_mode": {
    "name": "ipython",
    "version": 3
   },
   "file_extension": ".py",
   "mimetype": "text/x-python",
   "name": "python",
   "nbconvert_exporter": "python",
   "pygments_lexer": "ipython3",
   "version": "3.8.10"
  },
  "orig_nbformat": 4
 },
 "nbformat": 4,
 "nbformat_minor": 2
}
